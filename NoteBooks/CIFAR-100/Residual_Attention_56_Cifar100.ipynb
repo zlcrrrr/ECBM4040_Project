{
 "cells": [
  {
   "cell_type": "markdown",
   "metadata": {},
   "source": [
    "# Residual Attention Network - 56 on Cifar-100 Dataset"
   ]
  },
  {
   "cell_type": "code",
   "execution_count": 1,
   "metadata": {
    "colab": {},
    "colab_type": "code",
    "id": "Lm5PGh-IJVJd"
   },
   "outputs": [],
   "source": [
    "import tensorflow as tf\n",
    "import numpy as np\n",
    "import matplotlib.pyplot as plt\n",
    "import time, os, datetime\n",
    "import PIL\n",
    "import pandas as pd\n",
    "%load_ext autoreload\n",
    "%autoreload 2\n",
    "\n",
    "%matplotlib inline\n",
    "%config InlineBackend.figure_format = 'retina'"
   ]
  },
  {
   "cell_type": "code",
   "execution_count": 2,
   "metadata": {
    "colab": {},
    "colab_type": "code",
    "id": "oUZFIMrfJbWz"
   },
   "outputs": [],
   "source": [
    "from tensorflow.keras.datasets import cifar10,cifar100\n",
    "from tensorflow.keras.utils import to_categorical\n",
    "from tensorflow.keras.preprocessing.image import ImageDataGenerator\n",
    "from tensorflow.keras.optimizers import Adam\n",
    "from tensorflow.keras.callbacks import ReduceLROnPlateau, EarlyStopping,TensorBoard, LearningRateScheduler\n",
    "from tensorflow.keras.models import Model,load_model\n",
    "from tensorflow.keras.regularizers import l2\n",
    "from tensorflow.keras.layers import Input,BatchNormalization,Conv2D,MaxPooling2D,Activation,AveragePooling2D,Flatten,Dropout,Dense"
   ]
  },
  {
   "cell_type": "code",
   "execution_count": 3,
   "metadata": {
    "colab": {
     "base_uri": "https://localhost:8080/",
     "height": 50
    },
    "colab_type": "code",
    "id": "H6Nuin06v3DW",
    "outputId": "16479d0a-84c7-412c-da00-52b25b438547"
   },
   "outputs": [
    {
     "name": "stdout",
     "output_type": "stream",
     "text": [
      "TF version:  2.2.0\n",
      "Keras version: 2.3.0-tf\n"
     ]
    }
   ],
   "source": [
    "print(\"TF version: \",tf.__version__)\n",
    "print(\"Keras version:\",tf.keras.__version__)"
   ]
  },
  {
   "cell_type": "markdown",
   "metadata": {},
   "source": [
    "## Load CIFAR-100 Data"
   ]
  },
  {
   "cell_type": "code",
   "execution_count": 4,
   "metadata": {
    "colab": {
     "base_uri": "https://localhost:8080/",
     "height": 118
    },
    "colab_type": "code",
    "id": "EpEPPY0P7m_u",
    "outputId": "dc54969b-5dd1-4289-c0c6-0c86b11f46c8",
    "scrolled": true
   },
   "outputs": [
    {
     "name": "stdout",
     "output_type": "stream",
     "text": [
      "(50000, 32, 32, 3) (50000, 1) (10000, 32, 32, 3) (10000, 1)\n"
     ]
    }
   ],
   "source": [
    "# Load the CIFAR10 data.\n",
    "(x_train, y_train), (x_test, y_test) = cifar100.load_data()\n",
    "\n",
    "print(x_train.shape, y_train.shape,x_test.shape, y_test.shape)"
   ]
  },
  {
   "cell_type": "code",
   "execution_count": 24,
   "metadata": {},
   "outputs": [],
   "source": [
    "# # normalization\n",
    "# x_train = x_train/255.\n",
    "# x_test  = x_test/255."
   ]
  },
  {
   "cell_type": "code",
   "execution_count": 5,
   "metadata": {},
   "outputs": [
    {
     "name": "stdout",
     "output_type": "stream",
     "text": [
      "Training:    (40000, 32, 32, 3) (40000, 100)\n",
      "Validation:  (10000, 32, 32, 3) (10000, 100)\n",
      "Test:        (10000, 32, 32, 3) (10000, 100)\n"
     ]
    }
   ],
   "source": [
    "# devide into training & validation sets\n",
    "n_validation = 10000\n",
    "\n",
    "x_val   = x_train[-n_validation:]\n",
    "y_val   = y_train[-n_validation:]\n",
    "x_train = x_train[:-n_validation]\n",
    "y_train = y_train[:-n_validation]\n",
    "\n",
    "# Convert to binary class matrix\n",
    "y_val   = to_categorical(y_val,   num_classes=100)\n",
    "y_train = to_categorical(y_train, num_classes=100)\n",
    "y_test  = to_categorical(y_test,  num_classes=100)\n",
    "\n",
    "\n",
    "print('Training:   ',x_train.shape,y_train.shape)\n",
    "print('Validation: ',x_val.shape,y_val.shape)\n",
    "print('Test:       ',x_test.shape,y_test.shape)"
   ]
  },
  {
   "cell_type": "markdown",
   "metadata": {},
   "source": [
    "## Data Augmentation"
   ]
  },
  {
   "cell_type": "code",
   "execution_count": 6,
   "metadata": {
    "colab": {},
    "colab_type": "code",
    "id": "g8ULulP66jML"
   },
   "outputs": [],
   "source": [
    "# define generators for training, validation, and test sets\n",
    "train_datagen = ImageDataGenerator(width_shift_range=0.1,\n",
    "                                   height_shift_range=0.1,\n",
    "                                   horizontal_flip=True,\n",
    "                                   zoom_range = 0.1,\n",
    "                                   rotation_range=20,\n",
    "                                   shear_range = 0.1,\n",
    "                                   rescale=1./255,\n",
    "#                                    brightness_range=(0.7, 1.1),\n",
    "#                                    vertical_flip = True,\n",
    "                                   featurewise_center=True,\n",
    "                                   featurewise_std_normalization=True)\n",
    "\n",
    "\n",
    "val_datagen = ImageDataGenerator(rescale=1./255, \n",
    "                                 featurewise_center=True,\n",
    "                                 featurewise_std_normalization=True)\n",
    "\n",
    "test_datagen = ImageDataGenerator(rescale=1./255,\n",
    "                                  featurewise_center=True,\n",
    "                                  featurewise_std_normalization=True)\n",
    "\n",
    "# # compute quantities required for feature normalization\n",
    "# train_datagen.fit(x_train)\n",
    "# val_datagen.fit(x_val)\n",
    "# test_datagen.fit(x_test)"
   ]
  },
  {
   "cell_type": "code",
   "execution_count": 7,
   "metadata": {},
   "outputs": [],
   "source": [
    "# compute quantities required for feature normalization\n",
    "train_datagen.fit(x_train)\n",
    "val_datagen.fit(x_val)\n",
    "test_datagen.fit(x_test)"
   ]
  },
  {
   "cell_type": "code",
   "execution_count": null,
   "metadata": {},
   "outputs": [],
   "source": [
    "for x_batch, y_batch in train_datagen.flow(x_train, y_train, batch_size=9,seed=2020):\n",
    "    # create a grid of 3x3 images\n",
    "    for i in range(0, 9):\n",
    "        plt.subplot(330 + 1 + i)\n",
    "        plt.imshow(x_batch[i])\n",
    "    plt.tight_layout()\n",
    "    break"
   ]
  },
  {
   "cell_type": "markdown",
   "metadata": {},
   "source": [
    "## Define & Train the model"
   ]
  },
  {
   "cell_type": "code",
   "execution_count": 9,
   "metadata": {},
   "outputs": [],
   "source": [
    "from utils.models import AttentionResNet56"
   ]
  },
  {
   "cell_type": "code",
   "execution_count": null,
   "metadata": {
    "scrolled": true
   },
   "outputs": [],
   "source": [
    "# define and compile model\n",
    "model = AttentionResNet56(shape=(32,32,3), in_channel=32, kernel_size=5, n_classes=100, regularization=0.01)\n",
    "\n",
    "model.compile(optimizer=tf.keras.optimizers.Adam(lr=0.0001), \n",
    "              loss='categorical_crossentropy', \n",
    "              metrics=['accuracy'])\n",
    "model.summary()"
   ]
  },
  {
   "cell_type": "code",
   "execution_count": 11,
   "metadata": {
    "scrolled": true
   },
   "outputs": [
    {
     "name": "stdout",
     "output_type": "stream",
     "text": [
      "WARNING:tensorflow:`epsilon` argument is deprecated and will be removed, use `min_delta` instead.\n",
      "WARNING:tensorflow:From <ipython-input-11-8330dc7c9f71>:15: Model.fit_generator (from tensorflow.python.keras.engine.training) is deprecated and will be removed in a future version.\n",
      "Instructions for updating:\n",
      "Please use Model.fit, which supports generators.\n",
      "Epoch 1/150\n",
      "1250/1250 [==============================] - 255s 204ms/step - loss: 5.5639 - accuracy: 0.1069 - val_loss: 4.9733 - val_accuracy: 0.1550 - lr: 1.0000e-04\n",
      "Epoch 2/150\n",
      "1250/1250 [==============================] - 253s 202ms/step - loss: 4.3982 - accuracy: 0.1843 - val_loss: 3.9955 - val_accuracy: 0.2327 - lr: 1.0000e-04\n",
      "Epoch 3/150\n",
      "1250/1250 [==============================] - 253s 202ms/step - loss: 3.7427 - accuracy: 0.2368 - val_loss: 3.8206 - val_accuracy: 0.2297 - lr: 1.0000e-04\n",
      "Epoch 4/150\n",
      "1250/1250 [==============================] - 253s 202ms/step - loss: 3.3181 - accuracy: 0.2767 - val_loss: 3.2826 - val_accuracy: 0.2846 - lr: 1.0000e-04\n",
      "Epoch 5/150\n",
      "1250/1250 [==============================] - 252s 202ms/step - loss: 3.0348 - accuracy: 0.3099 - val_loss: 3.0988 - val_accuracy: 0.3032 - lr: 1.0000e-04\n",
      "Epoch 6/150\n",
      "1250/1250 [==============================] - 253s 203ms/step - loss: 2.8330 - accuracy: 0.3374 - val_loss: 2.9013 - val_accuracy: 0.3316 - lr: 1.0000e-04\n",
      "Epoch 7/150\n",
      "1250/1250 [==============================] - 253s 202ms/step - loss: 2.6749 - accuracy: 0.3576 - val_loss: 2.8589 - val_accuracy: 0.3337 - lr: 1.0000e-04\n",
      "Epoch 8/150\n",
      "1250/1250 [==============================] - 253s 203ms/step - loss: 2.5329 - accuracy: 0.3782 - val_loss: 2.7242 - val_accuracy: 0.3573 - lr: 1.0000e-04\n",
      "Epoch 9/150\n",
      "1250/1250 [==============================] - 253s 202ms/step - loss: 2.4275 - accuracy: 0.4010 - val_loss: 2.5651 - val_accuracy: 0.3799 - lr: 1.0000e-04\n",
      "Epoch 10/150\n",
      "1250/1250 [==============================] - 253s 203ms/step - loss: 2.3217 - accuracy: 0.4173 - val_loss: 2.3714 - val_accuracy: 0.4180 - lr: 1.0000e-04\n",
      "Epoch 11/150\n",
      "1250/1250 [==============================] - 252s 202ms/step - loss: 2.2348 - accuracy: 0.4336 - val_loss: 2.4605 - val_accuracy: 0.3985 - lr: 1.0000e-04\n",
      "Epoch 12/150\n",
      "1250/1250 [==============================] - 252s 202ms/step - loss: 2.1659 - accuracy: 0.4465 - val_loss: 2.3577 - val_accuracy: 0.4215 - lr: 1.0000e-04\n",
      "Epoch 13/150\n",
      "1250/1250 [==============================] - 253s 203ms/step - loss: 2.0971 - accuracy: 0.4644 - val_loss: 2.3569 - val_accuracy: 0.4135 - lr: 1.0000e-04\n",
      "Epoch 14/150\n",
      "1250/1250 [==============================] - 253s 202ms/step - loss: 2.0419 - accuracy: 0.4736 - val_loss: 2.3904 - val_accuracy: 0.4130 - lr: 1.0000e-04\n",
      "Epoch 15/150\n",
      "1250/1250 [==============================] - 252s 202ms/step - loss: 1.9674 - accuracy: 0.4881 - val_loss: 2.4144 - val_accuracy: 0.4175 - lr: 1.0000e-04\n",
      "Epoch 16/150\n",
      "1250/1250 [==============================] - 253s 202ms/step - loss: 1.9117 - accuracy: 0.5025 - val_loss: 2.2688 - val_accuracy: 0.4387 - lr: 1.0000e-04\n",
      "Epoch 17/150\n",
      "1250/1250 [==============================] - 252s 202ms/step - loss: 1.8599 - accuracy: 0.5123 - val_loss: 2.3146 - val_accuracy: 0.4361 - lr: 1.0000e-04\n",
      "Epoch 18/150\n",
      "1250/1250 [==============================] - 253s 202ms/step - loss: 1.8132 - accuracy: 0.5239 - val_loss: 2.2191 - val_accuracy: 0.4499 - lr: 1.0000e-04\n",
      "Epoch 19/150\n",
      "1250/1250 [==============================] - 253s 202ms/step - loss: 1.7577 - accuracy: 0.5372 - val_loss: 2.1262 - val_accuracy: 0.4754 - lr: 1.0000e-04\n",
      "Epoch 20/150\n",
      "1250/1250 [==============================] - 253s 203ms/step - loss: 1.7164 - accuracy: 0.5419 - val_loss: 2.1404 - val_accuracy: 0.4758 - lr: 1.0000e-04\n",
      "Epoch 21/150\n",
      "1250/1250 [==============================] - 253s 203ms/step - loss: 1.6764 - accuracy: 0.5569 - val_loss: 2.1893 - val_accuracy: 0.4671 - lr: 1.0000e-04\n",
      "Epoch 22/150\n",
      "1250/1250 [==============================] - 255s 204ms/step - loss: 1.6281 - accuracy: 0.5637 - val_loss: 2.0738 - val_accuracy: 0.4852 - lr: 1.0000e-04\n",
      "Epoch 23/150\n",
      "1250/1250 [==============================] - 254s 203ms/step - loss: 1.5978 - accuracy: 0.5712 - val_loss: 2.0524 - val_accuracy: 0.4944 - lr: 1.0000e-04\n",
      "Epoch 24/150\n",
      "1250/1250 [==============================] - 254s 203ms/step - loss: 1.5507 - accuracy: 0.5839 - val_loss: 2.1419 - val_accuracy: 0.4841 - lr: 1.0000e-04\n",
      "Epoch 25/150\n",
      "1250/1250 [==============================] - 253s 202ms/step - loss: 1.5099 - accuracy: 0.5916 - val_loss: 2.0302 - val_accuracy: 0.5042 - lr: 1.0000e-04\n",
      "Epoch 26/150\n",
      "1250/1250 [==============================] - 254s 203ms/step - loss: 1.4777 - accuracy: 0.6008 - val_loss: 1.9626 - val_accuracy: 0.5143 - lr: 1.0000e-04\n",
      "Epoch 27/150\n",
      "1250/1250 [==============================] - 253s 202ms/step - loss: 1.4333 - accuracy: 0.6139 - val_loss: 2.1041 - val_accuracy: 0.4941 - lr: 1.0000e-04\n",
      "Epoch 28/150\n",
      "1250/1250 [==============================] - 253s 202ms/step - loss: 1.4009 - accuracy: 0.6234 - val_loss: 2.0299 - val_accuracy: 0.5024 - lr: 1.0000e-04\n",
      "Epoch 29/150\n",
      "1250/1250 [==============================] - 252s 201ms/step - loss: 1.3624 - accuracy: 0.6298 - val_loss: 2.0640 - val_accuracy: 0.5078 - lr: 1.0000e-04\n",
      "Epoch 30/150\n",
      "1250/1250 [==============================] - 252s 202ms/step - loss: 1.3451 - accuracy: 0.6332 - val_loss: 2.0437 - val_accuracy: 0.5054 - lr: 1.0000e-04\n",
      "Epoch 31/150\n",
      "1250/1250 [==============================] - 252s 201ms/step - loss: 1.3118 - accuracy: 0.6435 - val_loss: 1.9838 - val_accuracy: 0.5219 - lr: 1.0000e-04\n",
      "Epoch 32/150\n",
      "1250/1250 [==============================] - 252s 202ms/step - loss: 1.2715 - accuracy: 0.6500 - val_loss: 2.0940 - val_accuracy: 0.5118 - lr: 1.0000e-04\n",
      "Epoch 33/150\n",
      "1250/1250 [==============================] - ETA: 0s - loss: 1.2494 - accuracy: 0.6563\n",
      "Epoch 00033: ReduceLROnPlateau reducing learning rate to 1.9999999494757503e-05.\n",
      "1250/1250 [==============================] - 253s 202ms/step - loss: 1.2494 - accuracy: 0.6563 - val_loss: 2.1090 - val_accuracy: 0.5111 - lr: 1.0000e-04\n",
      "Epoch 34/150\n",
      "1250/1250 [==============================] - 253s 202ms/step - loss: 0.9068 - accuracy: 0.7566 - val_loss: 1.6869 - val_accuracy: 0.5932 - lr: 2.0000e-05\n",
      "Epoch 35/150\n",
      "1250/1250 [==============================] - 253s 202ms/step - loss: 0.8147 - accuracy: 0.7819 - val_loss: 1.7461 - val_accuracy: 0.5827 - lr: 2.0000e-05\n",
      "Epoch 36/150\n",
      "1250/1250 [==============================] - 253s 202ms/step - loss: 0.7640 - accuracy: 0.7971 - val_loss: 1.7226 - val_accuracy: 0.5873 - lr: 2.0000e-05\n",
      "Epoch 37/150\n",
      "1250/1250 [==============================] - 253s 202ms/step - loss: 0.7326 - accuracy: 0.8037 - val_loss: 1.7416 - val_accuracy: 0.5891 - lr: 2.0000e-05\n",
      "Epoch 38/150\n",
      "1250/1250 [==============================] - 253s 203ms/step - loss: 0.6985 - accuracy: 0.8160 - val_loss: 1.7847 - val_accuracy: 0.5885 - lr: 2.0000e-05\n",
      "Epoch 39/150\n",
      "1250/1250 [==============================] - 253s 202ms/step - loss: 0.6791 - accuracy: 0.8205 - val_loss: 1.7929 - val_accuracy: 0.5868 - lr: 2.0000e-05\n",
      "Epoch 40/150\n",
      "1250/1250 [==============================] - 254s 203ms/step - loss: 0.6592 - accuracy: 0.8268 - val_loss: 1.7825 - val_accuracy: 0.5893 - lr: 2.0000e-05\n",
      "Epoch 41/150\n",
      "1250/1250 [==============================] - ETA: 0s - loss: 0.6322 - accuracy: 0.8324\n",
      "Epoch 00041: ReduceLROnPlateau reducing learning rate to 3.999999898951501e-06.\n",
      "1250/1250 [==============================] - 253s 202ms/step - loss: 0.6322 - accuracy: 0.8324 - val_loss: 1.8544 - val_accuracy: 0.5793 - lr: 2.0000e-05\n",
      "Epoch 42/150\n",
      "1250/1250 [==============================] - 251s 201ms/step - loss: 0.5696 - accuracy: 0.8553 - val_loss: 1.7788 - val_accuracy: 0.5950 - lr: 4.0000e-06\n",
      "Epoch 43/150\n",
      "1250/1250 [==============================] - 252s 202ms/step - loss: 0.5491 - accuracy: 0.8608 - val_loss: 1.7968 - val_accuracy: 0.5928 - lr: 4.0000e-06\n",
      "Epoch 44/150\n",
      "1250/1250 [==============================] - 253s 202ms/step - loss: 0.5399 - accuracy: 0.8656 - val_loss: 1.7834 - val_accuracy: 0.5943 - lr: 4.0000e-06\n",
      "Epoch 45/150\n",
      "1250/1250 [==============================] - 253s 202ms/step - loss: 0.5306 - accuracy: 0.8677 - val_loss: 1.7935 - val_accuracy: 0.5947 - lr: 4.0000e-06\n",
      "Epoch 46/150\n",
      "1250/1250 [==============================] - 253s 202ms/step - loss: 0.5279 - accuracy: 0.8684 - val_loss: 1.7919 - val_accuracy: 0.5949 - lr: 4.0000e-06\n",
      "Epoch 47/150\n",
      "1250/1250 [==============================] - 253s 202ms/step - loss: 0.5193 - accuracy: 0.8694 - val_loss: 1.7942 - val_accuracy: 0.5969 - lr: 4.0000e-06\n",
      "Epoch 48/150\n",
      "1250/1250 [==============================] - ETA: 0s - loss: 0.5081 - accuracy: 0.8751\n",
      "Epoch 00048: ReduceLROnPlateau reducing learning rate to 1e-06.\n",
      "1250/1250 [==============================] - 253s 203ms/step - loss: 0.5081 - accuracy: 0.8751 - val_loss: 1.8012 - val_accuracy: 0.5973 - lr: 4.0000e-06\n",
      "Epoch 49/150\n",
      "1250/1250 [==============================] - 253s 202ms/step - loss: 0.4913 - accuracy: 0.8798 - val_loss: 1.8017 - val_accuracy: 0.5977 - lr: 1.0000e-06\n",
      "Epoch 50/150\n",
      "1250/1250 [==============================] - 252s 202ms/step - loss: 0.4966 - accuracy: 0.8788 - val_loss: 1.7978 - val_accuracy: 0.5990 - lr: 1.0000e-06\n",
      "Epoch 51/150\n",
      "1250/1250 [==============================] - 251s 201ms/step - loss: 0.4910 - accuracy: 0.8819 - val_loss: 1.7939 - val_accuracy: 0.5995 - lr: 1.0000e-06\n",
      "Epoch 52/150\n",
      "1250/1250 [==============================] - 252s 202ms/step - loss: 0.4906 - accuracy: 0.8802 - val_loss: 1.8040 - val_accuracy: 0.5988 - lr: 1.0000e-06\n",
      "Epoch 53/150\n",
      "1250/1250 [==============================] - 253s 202ms/step - loss: 0.4931 - accuracy: 0.8796 - val_loss: 1.7946 - val_accuracy: 0.5988 - lr: 1.0000e-06\n",
      "Epoch 54/150\n",
      "1250/1250 [==============================] - 253s 202ms/step - loss: 0.4878 - accuracy: 0.8807 - val_loss: 1.7950 - val_accuracy: 0.5997 - lr: 1.0000e-06\n",
      "Epoch 55/150\n",
      "1250/1250 [==============================] - 253s 202ms/step - loss: 0.4837 - accuracy: 0.8827 - val_loss: 1.8061 - val_accuracy: 0.5973 - lr: 1.0000e-06\n",
      "Epoch 56/150\n",
      "1250/1250 [==============================] - 253s 202ms/step - loss: 0.4851 - accuracy: 0.8824 - val_loss: 1.7984 - val_accuracy: 0.5987 - lr: 1.0000e-06\n",
      "Epoch 57/150\n",
      "1250/1250 [==============================] - 253s 202ms/step - loss: 0.4843 - accuracy: 0.8802 - val_loss: 1.8104 - val_accuracy: 0.5976 - lr: 1.0000e-06\n",
      "Epoch 58/150\n",
      "1250/1250 [==============================] - 253s 202ms/step - loss: 0.4869 - accuracy: 0.8823 - val_loss: 1.8032 - val_accuracy: 0.5994 - lr: 1.0000e-06\n",
      "Epoch 59/150\n",
      "1250/1250 [==============================] - 253s 202ms/step - loss: 0.4809 - accuracy: 0.8845 - val_loss: 1.8066 - val_accuracy: 0.6000 - lr: 1.0000e-06\n",
      "Epoch 60/150\n",
      "1250/1250 [==============================] - 253s 202ms/step - loss: 0.4765 - accuracy: 0.8842 - val_loss: 1.8147 - val_accuracy: 0.5963 - lr: 1.0000e-06\n",
      "Epoch 61/150\n",
      "1250/1250 [==============================] - 253s 202ms/step - loss: 0.4792 - accuracy: 0.8845 - val_loss: 1.8046 - val_accuracy: 0.5981 - lr: 1.0000e-06\n",
      "Epoch 62/150\n",
      "1250/1250 [==============================] - 253s 202ms/step - loss: 0.4728 - accuracy: 0.8871 - val_loss: 1.8145 - val_accuracy: 0.5978 - lr: 1.0000e-06\n",
      "Epoch 63/150\n",
      "1250/1250 [==============================] - 252s 202ms/step - loss: 0.4714 - accuracy: 0.8874 - val_loss: 1.8097 - val_accuracy: 0.5979 - lr: 1.0000e-06\n",
      "Epoch 64/150\n",
      "1250/1250 [==============================] - 253s 202ms/step - loss: 0.4665 - accuracy: 0.8875 - val_loss: 1.8026 - val_accuracy: 0.5986 - lr: 1.0000e-06\n",
      "Epoch 65/150\n",
      "1250/1250 [==============================] - 253s 202ms/step - loss: 0.4686 - accuracy: 0.8858 - val_loss: 1.8055 - val_accuracy: 0.5997 - lr: 1.0000e-06\n",
      "Epoch 66/150\n",
      "1250/1250 [==============================] - 253s 202ms/step - loss: 0.4732 - accuracy: 0.8841 - val_loss: 1.8088 - val_accuracy: 0.6015 - lr: 1.0000e-06\n",
      "Epoch 67/150\n",
      "1250/1250 [==============================] - 252s 202ms/step - loss: 0.4690 - accuracy: 0.8876 - val_loss: 1.8192 - val_accuracy: 0.5990 - lr: 1.0000e-06\n",
      "Epoch 68/150\n",
      "1250/1250 [==============================] - 253s 202ms/step - loss: 0.4629 - accuracy: 0.8892 - val_loss: 1.8185 - val_accuracy: 0.5979 - lr: 1.0000e-06\n",
      "Epoch 69/150\n",
      "1250/1250 [==============================] - 251s 201ms/step - loss: 0.4664 - accuracy: 0.8891 - val_loss: 1.8272 - val_accuracy: 0.5975 - lr: 1.0000e-06\n",
      "Epoch 70/150\n",
      "1250/1250 [==============================] - 254s 203ms/step - loss: 0.4648 - accuracy: 0.8903 - val_loss: 1.8196 - val_accuracy: 0.5981 - lr: 1.0000e-06\n",
      "Epoch 71/150\n",
      "1250/1250 [==============================] - 254s 203ms/step - loss: 0.4626 - accuracy: 0.8902 - val_loss: 1.8280 - val_accuracy: 0.5970 - lr: 1.0000e-06\n",
      "Epoch 72/150\n",
      "1250/1250 [==============================] - 253s 203ms/step - loss: 0.4650 - accuracy: 0.8878 - val_loss: 1.8261 - val_accuracy: 0.5983 - lr: 1.0000e-06\n",
      "Epoch 73/150\n",
      "1250/1250 [==============================] - 253s 202ms/step - loss: 0.4628 - accuracy: 0.8887 - val_loss: 1.8250 - val_accuracy: 0.5982 - lr: 1.0000e-06\n",
      "Epoch 74/150\n",
      "1250/1250 [==============================] - 253s 203ms/step - loss: 0.4545 - accuracy: 0.8909 - val_loss: 1.8233 - val_accuracy: 0.5975 - lr: 1.0000e-06\n",
      "Epoch 75/150\n",
      "1250/1250 [==============================] - 253s 202ms/step - loss: 0.4602 - accuracy: 0.8885 - val_loss: 1.8232 - val_accuracy: 0.5981 - lr: 1.0000e-06\n",
      "Epoch 76/150\n",
      "1250/1250 [==============================] - 253s 202ms/step - loss: 0.4602 - accuracy: 0.8892 - val_loss: 1.8153 - val_accuracy: 0.5995 - lr: 1.0000e-06\n",
      "Epoch 77/150\n",
      "1250/1250 [==============================] - 252s 202ms/step - loss: 0.4555 - accuracy: 0.8924 - val_loss: 1.8268 - val_accuracy: 0.5975 - lr: 1.0000e-06\n",
      "Epoch 78/150\n",
      "1250/1250 [==============================] - 251s 200ms/step - loss: 0.4504 - accuracy: 0.8932 - val_loss: 1.8191 - val_accuracy: 0.5988 - lr: 1.0000e-06\n",
      "Epoch 79/150\n",
      "1250/1250 [==============================] - 252s 202ms/step - loss: 0.4550 - accuracy: 0.8937 - val_loss: 1.8234 - val_accuracy: 0.5982 - lr: 1.0000e-06\n",
      "Epoch 80/150\n",
      "1250/1250 [==============================] - 253s 202ms/step - loss: 0.4558 - accuracy: 0.8910 - val_loss: 1.8308 - val_accuracy: 0.5966 - lr: 1.0000e-06\n",
      "Epoch 81/150\n",
      "1250/1250 [==============================] - 252s 202ms/step - loss: 0.4514 - accuracy: 0.8933 - val_loss: 1.8269 - val_accuracy: 0.5981 - lr: 1.0000e-06\n",
      "Epoch 00081: early stopping\n",
      "Total training time: 341.82894097566606.\n"
     ]
    }
   ],
   "source": [
    "start = time.time()\n",
    "\n",
    "batch_size = 32\n",
    "epochs     = 150\n",
    "\n",
    "# callbacks (Reference: https://github.com/qubvel/residual_attention_network/blob/master/train_cifar10.ipynb)\n",
    "lr_reducer    = ReduceLROnPlateau(monitor='val_accuracy', factor=0.2, patience=7, min_lr=10e-7, epsilon=0.01, verbose=1)\n",
    "early_stopper = EarlyStopping(monitor='val_accuracy', min_delta=0, patience=15, verbose=1)\n",
    "\n",
    "\n",
    "H = model.fit_generator(train_datagen.flow(x_train, y_train, batch_size=batch_size),\n",
    "                        epochs           = epochs,\n",
    "                        steps_per_epoch  = len(x_train) // batch_size,\n",
    "                        validation_data  = val_datagen.flow(x_val, y_val, batch_size=batch_size),\n",
    "                        callbacks        = [lr_reducer, early_stopper])\n",
    "\n",
    "end = time.time()\n",
    "print(\"Total training time: {}.\".format((end-start)/60))\n"
   ]
  },
  {
   "cell_type": "markdown",
   "metadata": {},
   "source": [
    "The validation accuracy seems to stop increasing after the 50th Epoch. The performance is similar to https://github.com/qubvel/residual_attention_network/blob/master/train_cifar10.ipynb, but worse than https://github.com/Jay4869/Deep-Learning/blob/2f58356855a170c7a27c955cff9b8ac04b58af79/Training/training_56.ipynb . \n",
    "\n",
    "Might need to reschedule the learning rate. lr = 1e-6 might be too small to get the global minimum"
   ]
  },
  {
   "cell_type": "markdown",
   "metadata": {},
   "source": [
    "## Save model & plot training process"
   ]
  },
  {
   "cell_type": "code",
   "execution_count": 12,
   "metadata": {},
   "outputs": [],
   "source": [
    "model_name = 'AttentionResNet56_cifar100'\n",
    "model.save(\"./Models/\"+model_name+\".hdf5\")"
   ]
  },
  {
   "cell_type": "code",
   "execution_count": 13,
   "metadata": {
    "scrolled": true
   },
   "outputs": [],
   "source": [
    "def plot_training(H, model_name):\n",
    "    acc     = H.history['accuracy']\n",
    "    val_acc = H.history['val_accuracy']\n",
    "    loss    = H.history['loss']\n",
    "    val_loss= H.history['val_loss']\n",
    "\n",
    "    epochs = range(len(acc))\n",
    "\n",
    "    fig, axes = plt.subplots(figsize=(10,4),ncols=2)\n",
    "\n",
    "    axes[0].plot(epochs, acc, 'b',label='Train')\n",
    "    axes[0].plot(epochs, val_acc, 'r',label='Validation')\n",
    "    axes[0].set_title('Training and validation accuracy')\n",
    "    axes[0].legend()\n",
    "\n",
    "\n",
    "    axes[1].plot(epochs, loss, 'b')\n",
    "    axes[1].plot(epochs, val_loss, 'r')\n",
    "    axes[1].set_title('Training and validation loss')\n",
    "    \n",
    "    plt.tight_layout()\n",
    "    plt.rcParams['savefig.dpi'] = 220\n",
    "    plt.savefig('./Figures/TrainingProcess_'+model_name+'.png')\n",
    "    \n",
    "    # save the metrics of training process to a csv file\n",
    "    hist_df = pd.DataFrame(H.history) \n",
    "    hist_df.to_csv('./Models/'+model_name+'_history.csv')"
   ]
  },
  {
   "cell_type": "code",
   "execution_count": 14,
   "metadata": {},
   "outputs": [
    {
     "data": {
      "image/png": "[encoded data removed]",
      "text/plain": [
       "<Figure size 720x288 with 2 Axes>"
      ]
     },
     "metadata": {
      "image/png": {
       "height": 279,
       "width": 712
      },
      "needs_background": "light"
     },
     "output_type": "display_data"
    }
   ],
   "source": [
    "plot_training(H,model_name)"
   ]
  },
  {
   "cell_type": "markdown",
   "metadata": {},
   "source": [
    "## Evaluation on the test set"
   ]
  },
  {
   "cell_type": "code",
   "execution_count": 15,
   "metadata": {},
   "outputs": [
    {
     "name": "stdout",
     "output_type": "stream",
     "text": [
      "WARNING:tensorflow:From <ipython-input-15-253aaa7b02c0>:3: Model.evaluate_generator (from tensorflow.python.keras.engine.training) is deprecated and will be removed in a future version.\n",
      "Instructions for updating:\n",
      "Please use Model.evaluate, which supports generators.\n",
      "WARNING:tensorflow:multiprocessing can interact badly with TensorFlow, causing nondeterministic deadlocks. For high performance data pipelines tf.data is recommended.\n"
     ]
    }
   ],
   "source": [
    "test_result = model.evaluate_generator(test_datagen.flow(x_test, y_test), \n",
    "                                       steps=len(x_test)/batch_size, \n",
    "                                       use_multiprocessing=True)"
   ]
  },
  {
   "cell_type": "code",
   "execution_count": 16,
   "metadata": {},
   "outputs": [
    {
     "data": {
      "text/plain": [
       "[1.7935097217559814, 0.6000000238418579]"
      ]
     },
     "execution_count": 16,
     "metadata": {},
     "output_type": "execute_result"
    }
   ],
   "source": [
    "test_result"
   ]
  },
  {
   "cell_type": "code",
   "execution_count": 21,
   "metadata": {},
   "outputs": [],
   "source": [
    "y_predict = model.predict(x_test)"
   ]
  },
  {
   "cell_type": "code",
   "execution_count": 22,
   "metadata": {},
   "outputs": [],
   "source": [
    "# compute and plot confusion matrix\n",
    "from sklearn.metrics import classification_report\n",
    "from sklearn.metrics import confusion_matrix\n",
    "\n",
    "\n",
    "def plot_confusion_matrix(cm, classes, cmap=plt.cm.Blues,save_path=None):\n",
    "    \"\"\"\n",
    "    This function prints and plots the confusion matrix.\n",
    "    Normalization can be applied by setting `normalize=True`.\n",
    "    \"\"\"\n",
    "\n",
    "    fig, axes = plt.subplots(figsize=(12,6),ncols=2)\n",
    "    \n",
    "    im = axes[0].imshow(cm, interpolation='nearest', cmap=cmap)\n",
    "    axes[0].set_title('Confusion matrix without normalization')\n",
    "    fig.colorbar(im,ax=axes[0],shrink=0.75)\n",
    "\n",
    "    thresh = cm.max() / 2.\n",
    "    for i in range(cm.shape[0]):\n",
    "        for j in range(cm.shape[1]):\n",
    "            axes[0].text(j, i, cm[i, j],horizontalalignment=\"center\", fontsize=8,\n",
    "                         color=\"white\" if cm[i, j] > thresh else \"black\")\n",
    "\n",
    "    # normalized\n",
    "    cm_n = cm.astype('float') / cm.sum(axis=1)[:, np.newaxis]\n",
    "    cm_n = np.around(cm_n,decimals=2)\n",
    "\n",
    "    im_n = axes[1].imshow(cm_n, interpolation='nearest', cmap=cmap)\n",
    "    axes[1].set_title('Normalized confusion matrix')\n",
    "    fig.colorbar(im_n,ax=axes[1],shrink=0.75)\n",
    "\n",
    "    thresh = cm_n.max() / 2.\n",
    "    for i in range(cm_n.shape[0]):\n",
    "        for j in range(cm_n.shape[1]):\n",
    "            axes[1].text(j, i, cm_n[i, j],horizontalalignment=\"center\", fontsize=8,\n",
    "                         color=\"white\" if cm_n[i, j] > thresh else \"black\")\n",
    "\n",
    "    tick_marks = np.arange(len(classes))\n",
    "    for ax in axes:\n",
    "        ax.set_xticks(tick_marks)\n",
    "        ax.set_xticklabels(classes, rotation=45)\n",
    "        ax.set_yticks(tick_marks)\n",
    "        ax.set_yticklabels(classes, rotation=45)\n",
    "        ax.set_ylabel('True label')\n",
    "        ax.set_xlabel('Predicted label')\n",
    "\n",
    "    plt.tight_layout()\n",
    "    \n",
    "    if save_path is not None:\n",
    "        plt.rcParams['savefig.dpi'] = 220\n",
    "        plt.savefig('./Figures/confusion_matrix_'+save_path+'.png')\n",
    "\n",
    "    \n",
    "    print('Confusion matrix, without normalization')\n",
    "    # print(cm)\n",
    "    print(\"Normalized confusion matrix\")\n",
    "    # print(cm_n)\n",
    "    plt.show()"
   ]
  },
  {
   "cell_type": "code",
   "execution_count": null,
   "metadata": {},
   "outputs": [],
   "source": []
  }
 ],
 "metadata": {
  "accelerator": "GPU",
  "colab": {
   "collapsed_sections": [],
   "name": "training_56_mini",
   "provenance": []
  },
  "kernelspec": {
   "display_name": "Python 3",
   "language": "python",
   "name": "python3"
  },
  "language_info": {
   "codemirror_mode": {
    "name": "ipython",
    "version": 3
   },
   "file_extension": ".py",
   "mimetype": "text/x-python",
   "name": "python",
   "nbconvert_exporter": "python",
   "pygments_lexer": "ipython3",
   "version": "3.7.9"
  }
 },
 "nbformat": 4,
 "nbformat_minor": 4
}
